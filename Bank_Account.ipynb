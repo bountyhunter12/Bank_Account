{
  "nbformat": 4,
  "nbformat_minor": 0,
  "metadata": {
    "colab": {
      "provenance": [],
      "authorship_tag": "ABX9TyOFCrLP6aFHBp/FL2HEn6KO",
      "include_colab_link": true
    },
    "kernelspec": {
      "name": "python3",
      "display_name": "Python 3"
    },
    "language_info": {
      "name": "python"
    }
  },
  "cells": [
    {
      "cell_type": "markdown",
      "metadata": {
        "id": "view-in-github",
        "colab_type": "text"
      },
      "source": [
        "<a href=\"https://colab.research.google.com/github/bountyhunter12/Bank_Account/blob/main/Bank_Account.ipynb\" target=\"_parent\"><img src=\"https://colab.research.google.com/assets/colab-badge.svg\" alt=\"Open In Colab\"/></a>"
      ]
    },
    {
      "cell_type": "code",
      "execution_count": 1,
      "metadata": {
        "colab": {
          "base_uri": "https://localhost:8080/"
        },
        "id": "nlvPrkRLkYp_",
        "outputId": "ca1b11bf-5e3b-493c-d25a-c69f65d7242f"
      },
      "outputs": [
        {
          "output_type": "stream",
          "name": "stdout",
          "text": [
            "New account is created\n",
            "Enter amount to be deposied:12000\n",
            "New balance is:  12000.0\n",
            "Enter anount to withdraw:200\n",
            "New balance is :  11800.0\n",
            "Balance is :  11800.0\n"
          ]
        }
      ],
      "source": [
        "class Account:\n",
        "  def __init__(self):\n",
        "    self.balance = 0\n",
        "    print(\"New account is created\")\n",
        "\n",
        "  def deposit(self):\n",
        "    amount = float(input('Enter amount to be deposied:'))\n",
        "    self.balance += amount\n",
        "    print(\"New balance is: \",self.balance)\n",
        "\n",
        "  def withdraw(self):\n",
        "    amount = float(input('Enter anount to withdraw:'))\n",
        "    if(amount > self.balance):\n",
        "      print(\"Insufficient balance\")\n",
        "    else:\n",
        "      self.balance -= amount\n",
        "      print(\"New balance is : \",self.balance)\n",
        "\n",
        "  def enquiry(self):\n",
        "    print(\"Balance is : \",self.balance)\n",
        "\n",
        "ac = Account()\n",
        "ac.deposit()\n",
        "ac.withdraw()\n",
        "ac.enquiry()\n"
      ]
    }
  ]
}